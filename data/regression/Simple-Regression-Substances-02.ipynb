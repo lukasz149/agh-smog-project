{
 "cells": [
  {
   "cell_type": "markdown",
   "metadata": {
    "collapsed": true
   },
   "source": [
    "# Jupyter intro\n",
    "\n",
    "### Useful shortcuts:\n",
    "- Shift + Tab - function tooltip\n",
    "- Shift + Tab + Tab - more detailed function info\n",
    "- Tab - autocomplete list\n",
    "- Shift + Enter - run cell"
   ]
  },
  {
   "cell_type": "markdown",
   "metadata": {},
   "source": [
    "# Pandas intro"
   ]
  },
  {
   "cell_type": "markdown",
   "metadata": {},
   "source": [
    "### Load all libraries needed"
   ]
  },
  {
   "cell_type": "code",
   "execution_count": 1,
   "metadata": {
    "collapsed": false
   },
   "outputs": [
    {
     "name": "stderr",
     "output_type": "stream",
     "text": [
      "c:\\python35\\lib\\site-packages\\matplotlib\\__init__.py:872: UserWarning: axes.color_cycle is deprecated and replaced with axes.prop_cycle; please use the latter.\n",
      "  warnings.warn(self.msg_depr % (key, alt_key))\n"
     ]
    }
   ],
   "source": [
    "import pickle\n",
    "import numpy as np\n",
    "import pandas as pd\n",
    "import matplotlib.pyplot as plt\n",
    "import seaborn # for prettier plots, probably need to install it => conda install seaborn\n",
    "%matplotlib inline"
   ]
  },
  {
   "cell_type": "markdown",
   "metadata": {},
   "source": [
    "### Load datasets\n",
    "All datasets are complete, there is no holes in them. Time represents number of hours from 2005-01-01."
   ]
  },
  {
   "cell_type": "code",
   "execution_count": 2,
   "metadata": {
    "collapsed": true
   },
   "outputs": [],
   "source": [
    "with open('weather-unnorm.pickle', 'rb') as file:\n",
    "    weather = pickle.load(file)\n",
    "    weather = weather['weather']\n",
    "with open('smog-unnorm.pickle', 'rb') as file:\n",
    "    smog = pickle.load(file)"
   ]
  },
  {
   "cell_type": "code",
   "execution_count": 3,
   "metadata": {
    "collapsed": false,
    "scrolled": true
   },
   "outputs": [
    {
     "data": {
      "text/plain": [
       "<matplotlib.axes._subplots.AxesSubplot at 0x2575e432ef0>"
      ]
     },
     "execution_count": 3,
     "metadata": {},
     "output_type": "execute_result"
    },
    {
     "data": {
      "image/png": "[encoded data removed]",
      "text/plain": [
       "<matplotlib.figure.Figure at 0x25761955a90>"
      ]
     },
     "metadata": {},
     "output_type": "display_data"
    }
   ],
   "source": [
    "smog['7'].plot(x='time')"
   ]
  },
  {
   "cell_type": "markdown",
   "metadata": {},
   "source": [
    "### For converting `time` column"
   ]
  },
  {
   "cell_type": "code",
   "execution_count": 4,
   "metadata": {
    "collapsed": true
   },
   "outputs": [],
   "source": [
    "def hours_to_date(x):\n",
    "    base_time = pd.to_datetime('2005-01-01').to_datetime64().astype('int64')\n",
    "    return pd.to_datetime(base_time // 1000000000 + x * 3600, unit='s')"
   ]
  },
  {
   "cell_type": "code",
   "execution_count": 5,
   "metadata": {
    "collapsed": true
   },
   "outputs": [],
   "source": [
    "def date_to_hours(date):\n",
    "    if type(date) == type(''):\n",
    "        date = pd.to_datetime(date)\n",
    "    base_date = pd.to_datetime('2005-01-01').to_datetime64().astype('int64')\n",
    "    return int((date.to_datetime64().astype('int64') - base_date) // 3600000000000)"
   ]
  },
  {
   "cell_type": "markdown",
   "metadata": {},
   "source": [
    "# Scikit learn - Regression"
   ]
  },
  {
   "cell_type": "code",
   "execution_count": 6,
   "metadata": {
    "collapsed": true
   },
   "outputs": [],
   "source": [
    "from sklearn import linear_model"
   ]
  },
  {
   "cell_type": "markdown",
   "metadata": {},
   "source": [
    "# Actual work\n",
    "We will work on `weather_smog` dataset, but first we need to split it on train, validation, test sets. We will always train our model on train set then try to evaluate it on validation set and fine-tune hyper-parameters. At the very end we will check our model on test set."
   ]
  },
  {
   "cell_type": "code",
   "execution_count": 7,
   "metadata": {
    "collapsed": false
   },
   "outputs": [],
   "source": [
    "weather_data = weather.copy()\n",
    "smog_data = smog['7'].copy()"
   ]
  },
  {
   "cell_type": "code",
   "execution_count": 8,
   "metadata": {
    "collapsed": true
   },
   "outputs": [],
   "source": [
    "def create_and_fit_model(X, y):\n",
    "#     model = linear_model.LinearRegression(n_jobs=8, normalize=True)\n",
    "    model = linear_model.Lasso(alpha=0.0001, normalize=True)\n",
    "    model.fit(X, y)\n",
    "    return model"
   ]
  },
  {
   "cell_type": "code",
   "execution_count": 9,
   "metadata": {
    "collapsed": true
   },
   "outputs": [],
   "source": [
    "def plot_fitted_data(model, X, y, begin=0, end=100, station='7', substance='co'):\n",
    "    prediction = model.predict(X)\n",
    "    plt.figure(figsize=(16, 9))\n",
    "    tmp = X[:]\n",
    "    tmp['target'] = y\n",
    "    tmp['pred'] = prediction\n",
    "    tmp = tmp.sort_values(by='time')\n",
    "    plt.plot(tmp['time'][begin:end], unnormalize_smog(tmp['target'], station, substance)[begin:end])\n",
    "    plt.plot(tmp['time'][begin:end], unnormalize_smog(tmp['pred'], station, substance)[begin:end])\n",
    "    plt.show()"
   ]
  },
  {
   "cell_type": "code",
   "execution_count": 10,
   "metadata": {
    "collapsed": true
   },
   "outputs": [],
   "source": [
    "def plot_dependency(model, feature_list, top=None):\n",
    "    if top:\n",
    "        temp = sorted(zip(model.coef_, feature_list), key=lambda x: abs(x[0]), reverse=True)[:top]\n",
    "        index = np.arange(len(temp))\n",
    "        coef = list(map(lambda x: x[0], temp))\n",
    "        features = list(map(lambda x: x[1], temp))\n",
    "    else:\n",
    "        index = np.arange(len(feature_list))\n",
    "        coef = model.coef_\n",
    "        features = feature_list\n",
    "    bar_width = 0.35\n",
    "    plt.figure(figsize=(16, 9))\n",
    "    plt.bar(index, coef, bar_width)\n",
    "    plt.xticks(index + bar_width / 2, features)\n",
    "    plt.tight_layout()\n",
    "    plt.show()"
   ]
  },
  {
   "cell_type": "code",
   "execution_count": 11,
   "metadata": {
    "collapsed": true
   },
   "outputs": [],
   "source": [
    "def split_data(data, size, rnd=42):\n",
    "    np.random.seed(rnd)\n",
    "    dataset = data.reindex(np.random.permutation(data.index))\n",
    "    length = int(len(data) * size)\n",
    "    return dataset[:length], dataset[length:]"
   ]
  },
  {
   "cell_type": "markdown",
   "metadata": {},
   "source": [
    "# Model for PM10 only"
   ]
  },
  {
   "cell_type": "code",
   "execution_count": 12,
   "metadata": {
    "collapsed": false
   },
   "outputs": [
    {
     "data": {
      "text/html": [
       "<div>\n",
       "<table border=\"1\" class=\"dataframe\">\n",
       "  <thead>\n",
       "    <tr style=\"text-align: right;\">\n",
       "      <th></th>\n",
       "      <th>time</th>\n",
       "      <th>pm10</th>\n",
       "    </tr>\n",
       "  </thead>\n",
       "  <tbody>\n",
       "    <tr>\n",
       "      <th>0</th>\n",
       "      <td>10920</td>\n",
       "      <td>40.0</td>\n",
       "    </tr>\n",
       "    <tr>\n",
       "      <th>1</th>\n",
       "      <td>10921</td>\n",
       "      <td>28.0</td>\n",
       "    </tr>\n",
       "    <tr>\n",
       "      <th>2</th>\n",
       "      <td>10922</td>\n",
       "      <td>7.0</td>\n",
       "    </tr>\n",
       "    <tr>\n",
       "      <th>3</th>\n",
       "      <td>10923</td>\n",
       "      <td>6.0</td>\n",
       "    </tr>\n",
       "    <tr>\n",
       "      <th>4</th>\n",
       "      <td>10924</td>\n",
       "      <td>11.0</td>\n",
       "    </tr>\n",
       "  </tbody>\n",
       "</table>\n",
       "</div>"
      ],
      "text/plain": [
       "    time  pm10\n",
       "0  10920  40.0\n",
       "1  10921  28.0\n",
       "2  10922   7.0\n",
       "3  10923   6.0\n",
       "4  10924  11.0"
      ]
     },
     "execution_count": 12,
     "metadata": {},
     "output_type": "execute_result"
    }
   ],
   "source": [
    "subst_data = smog_data[['time', 'pm10']]\n",
    "subst_data.head()"
   ]
  },
  {
   "cell_type": "markdown",
   "metadata": {},
   "source": [
    "## Prepare targets for all data"
   ]
  },
  {
   "cell_type": "code",
   "execution_count": 13,
   "metadata": {
    "collapsed": false
   },
   "outputs": [],
   "source": [
    "def to_hot_encoding(data, column, min_value, max_value):\n",
    "    temp = data[column]\n",
    "    for i in range(min_value, max_value + 1):\n",
    "        data['%s-%d' % (column, i)] = np.array(temp == i, dtype=np.int32)\n",
    "    return data"
   ]
  },
  {
   "cell_type": "code",
   "execution_count": 14,
   "metadata": {
    "collapsed": true
   },
   "outputs": [],
   "source": [
    "def to_sin_cos_encoding(data, column, min_value, max_value):\n",
    "    temp = data[column]\n",
    "    data[column + '-sin'] = np.sin((temp - min_value) * np.pi * 2. / (max_value - min_value)) + min_value\n",
    "    data[column + '-cos'] = np.cos((temp - min_value) * np.pi * 2. / (max_value - min_value)) + min_value\n",
    "    return data"
   ]
  },
  {
   "cell_type": "code",
   "execution_count": 15,
   "metadata": {
    "collapsed": true
   },
   "outputs": [],
   "source": [
    "def to_sin_cos_encoding2(data, column, min_value, max_value):\n",
    "    temp = data[column]\n",
    "    data[column + '-sin'] = np.sin(temp * np.pi * 2. / (max_value - min_value))\n",
    "    data[column + '-cos'] = np.cos(temp * np.pi * 2. / (max_value - min_value))\n",
    "    return data"
   ]
  },
  {
   "cell_type": "code",
   "execution_count": 16,
   "metadata": {
    "collapsed": true
   },
   "outputs": [],
   "source": [
    "def split_time_column(data):\n",
    "    dates = data['time'].apply(hours_to_date)\n",
    "    data['hour'] = dates.apply(lambda x: x.hour)\n",
    "    data['weekday'] = dates.apply(lambda x: x.dayofweek)\n",
    "    data['monthday'] = dates.apply(lambda x: x.day)\n",
    "    data['weekyear'] = dates.apply(lambda x: x.weekofyear)\n",
    "    data['dayyear'] = dates.apply(lambda x: x.dayofyear)\n",
    "    data['month'] = dates.apply(lambda x: x.month)\n",
    "    return data"
   ]
  },
  {
   "cell_type": "code",
   "execution_count": 17,
   "metadata": {
    "collapsed": false,
    "scrolled": true
   },
   "outputs": [
    {
     "name": "stderr",
     "output_type": "stream",
     "text": [
      "c:\\python35\\lib\\site-packages\\ipykernel\\__main__.py:3: SettingWithCopyWarning: \n",
      "A value is trying to be set on a copy of a slice from a DataFrame.\n",
      "Try using .loc[row_indexer,col_indexer] = value instead\n",
      "\n",
      "See the caveats in the documentation: http://pandas.pydata.org/pandas-docs/stable/indexing.html#indexing-view-versus-copy\n",
      "  app.launch_new_instance()\n",
      "c:\\python35\\lib\\site-packages\\ipykernel\\__main__.py:4: SettingWithCopyWarning: \n",
      "A value is trying to be set on a copy of a slice from a DataFrame.\n",
      "Try using .loc[row_indexer,col_indexer] = value instead\n",
      "\n",
      "See the caveats in the documentation: http://pandas.pydata.org/pandas-docs/stable/indexing.html#indexing-view-versus-copy\n",
      "c:\\python35\\lib\\site-packages\\ipykernel\\__main__.py:5: SettingWithCopyWarning: \n",
      "A value is trying to be set on a copy of a slice from a DataFrame.\n",
      "Try using .loc[row_indexer,col_indexer] = value instead\n",
      "\n",
      "See the caveats in the documentation: http://pandas.pydata.org/pandas-docs/stable/indexing.html#indexing-view-versus-copy\n",
      "c:\\python35\\lib\\site-packages\\ipykernel\\__main__.py:6: SettingWithCopyWarning: \n",
      "A value is trying to be set on a copy of a slice from a DataFrame.\n",
      "Try using .loc[row_indexer,col_indexer] = value instead\n",
      "\n",
      "See the caveats in the documentation: http://pandas.pydata.org/pandas-docs/stable/indexing.html#indexing-view-versus-copy\n",
      "c:\\python35\\lib\\site-packages\\ipykernel\\__main__.py:7: SettingWithCopyWarning: \n",
      "A value is trying to be set on a copy of a slice from a DataFrame.\n",
      "Try using .loc[row_indexer,col_indexer] = value instead\n",
      "\n",
      "See the caveats in the documentation: http://pandas.pydata.org/pandas-docs/stable/indexing.html#indexing-view-versus-copy\n",
      "c:\\python35\\lib\\site-packages\\ipykernel\\__main__.py:8: SettingWithCopyWarning: \n",
      "A value is trying to be set on a copy of a slice from a DataFrame.\n",
      "Try using .loc[row_indexer,col_indexer] = value instead\n",
      "\n",
      "See the caveats in the documentation: http://pandas.pydata.org/pandas-docs/stable/indexing.html#indexing-view-versus-copy\n"
     ]
    }
   ],
   "source": [
    "subst = split_time_column(subst_data)"
   ]
  },
  {
   "cell_type": "code",
   "execution_count": 18,
   "metadata": {
    "collapsed": false,
    "scrolled": false
   },
   "outputs": [
    {
     "data": {
      "text/html": [
       "<div>\n",
       "<table border=\"1\" class=\"dataframe\">\n",
       "  <thead>\n",
       "    <tr style=\"text-align: right;\">\n",
       "      <th></th>\n",
       "      <th>time</th>\n",
       "      <th>pm10</th>\n",
       "      <th>hour</th>\n",
       "      <th>weekday</th>\n",
       "      <th>monthday</th>\n",
       "      <th>weekyear</th>\n",
       "      <th>dayyear</th>\n",
       "      <th>month</th>\n",
       "    </tr>\n",
       "  </thead>\n",
       "  <tbody>\n",
       "    <tr>\n",
       "      <th>0</th>\n",
       "      <td>10920</td>\n",
       "      <td>40.0</td>\n",
       "      <td>0</td>\n",
       "      <td>5</td>\n",
       "      <td>1</td>\n",
       "      <td>13</td>\n",
       "      <td>91</td>\n",
       "      <td>4</td>\n",
       "    </tr>\n",
       "    <tr>\n",
       "      <th>1</th>\n",
       "      <td>10921</td>\n",
       "      <td>28.0</td>\n",
       "      <td>1</td>\n",
       "      <td>5</td>\n",
       "      <td>1</td>\n",
       "      <td>13</td>\n",
       "      <td>91</td>\n",
       "      <td>4</td>\n",
       "    </tr>\n",
       "    <tr>\n",
       "      <th>2</th>\n",
       "      <td>10922</td>\n",
       "      <td>7.0</td>\n",
       "      <td>2</td>\n",
       "      <td>5</td>\n",
       "      <td>1</td>\n",
       "      <td>13</td>\n",
       "      <td>91</td>\n",
       "      <td>4</td>\n",
       "    </tr>\n",
       "    <tr>\n",
       "      <th>3</th>\n",
       "      <td>10923</td>\n",
       "      <td>6.0</td>\n",
       "      <td>3</td>\n",
       "      <td>5</td>\n",
       "      <td>1</td>\n",
       "      <td>13</td>\n",
       "      <td>91</td>\n",
       "      <td>4</td>\n",
       "    </tr>\n",
       "    <tr>\n",
       "      <th>4</th>\n",
       "      <td>10924</td>\n",
       "      <td>11.0</td>\n",
       "      <td>4</td>\n",
       "      <td>5</td>\n",
       "      <td>1</td>\n",
       "      <td>13</td>\n",
       "      <td>91</td>\n",
       "      <td>4</td>\n",
       "    </tr>\n",
       "  </tbody>\n",
       "</table>\n",
       "</div>"
      ],
      "text/plain": [
       "    time  pm10  hour  weekday  monthday  weekyear  dayyear  month\n",
       "0  10920  40.0     0        5         1        13       91      4\n",
       "1  10921  28.0     1        5         1        13       91      4\n",
       "2  10922   7.0     2        5         1        13       91      4\n",
       "3  10923   6.0     3        5         1        13       91      4\n",
       "4  10924  11.0     4        5         1        13       91      4"
      ]
     },
     "execution_count": 18,
     "metadata": {},
     "output_type": "execute_result"
    }
   ],
   "source": [
    "subst.head()"
   ]
  },
  {
   "cell_type": "markdown",
   "metadata": {},
   "source": [
    "## Add weather features"
   ]
  },
  {
   "cell_type": "code",
   "execution_count": 19,
   "metadata": {
    "collapsed": false,
    "scrolled": true
   },
   "outputs": [],
   "source": [
    "temp_weather = weather_data.copy()\n",
    "temp_weather['time'] -= 24 # shift by 24h to make it future values"
   ]
  },
  {
   "cell_type": "code",
   "execution_count": 20,
   "metadata": {
    "collapsed": false
   },
   "outputs": [
    {
     "name": "stdout",
     "output_type": "stream",
     "text": [
      "57436\n",
      "57460\n"
     ]
    }
   ],
   "source": [
    "print(temp_weather['time'][0])\n",
    "print(weather['time'][0])"
   ]
  },
  {
   "cell_type": "code",
   "execution_count": 21,
   "metadata": {
    "collapsed": false
   },
   "outputs": [],
   "source": [
    "subst_weather = pd.merge(subst, temp_weather, on='time')\n",
    "subst_weather = subst_weather[subst_weather['time'] >= 57500] # select all after"
   ]
  },
  {
   "cell_type": "code",
   "execution_count": 22,
   "metadata": {
    "collapsed": false
   },
   "outputs": [
    {
     "data": {
      "text/plain": [
       "41212"
      ]
     },
     "execution_count": 22,
     "metadata": {},
     "output_type": "execute_result"
    }
   ],
   "source": [
    "len(subst_weather)"
   ]
  },
  {
   "cell_type": "code",
   "execution_count": 23,
   "metadata": {
    "collapsed": false,
    "scrolled": true
   },
   "outputs": [
    {
     "data": {
      "text/html": [
       "<div>\n",
       "<table border=\"1\" class=\"dataframe\">\n",
       "  <thead>\n",
       "    <tr style=\"text-align: right;\">\n",
       "      <th></th>\n",
       "      <th>time</th>\n",
       "      <th>pm10</th>\n",
       "      <th>hour</th>\n",
       "      <th>weekday</th>\n",
       "      <th>monthday</th>\n",
       "      <th>weekyear</th>\n",
       "      <th>dayyear</th>\n",
       "      <th>month</th>\n",
       "      <th>wind-direction</th>\n",
       "      <th>humidity</th>\n",
       "      <th>pressure</th>\n",
       "      <th>wind-speed</th>\n",
       "      <th>rain</th>\n",
       "      <th>temperature</th>\n",
       "      <th>target</th>\n",
       "    </tr>\n",
       "  </thead>\n",
       "  <tbody>\n",
       "    <tr>\n",
       "      <th>64</th>\n",
       "      <td>57500</td>\n",
       "      <td>25.0</td>\n",
       "      <td>20</td>\n",
       "      <td>6</td>\n",
       "      <td>24</td>\n",
       "      <td>29</td>\n",
       "      <td>205</td>\n",
       "      <td>7</td>\n",
       "      <td>230.0</td>\n",
       "      <td>92.13</td>\n",
       "      <td>982.80</td>\n",
       "      <td>1.240</td>\n",
       "      <td>9.93</td>\n",
       "      <td>14.31</td>\n",
       "      <td>48.0</td>\n",
       "    </tr>\n",
       "    <tr>\n",
       "      <th>65</th>\n",
       "      <td>57501</td>\n",
       "      <td>30.0</td>\n",
       "      <td>21</td>\n",
       "      <td>6</td>\n",
       "      <td>24</td>\n",
       "      <td>29</td>\n",
       "      <td>205</td>\n",
       "      <td>7</td>\n",
       "      <td>236.0</td>\n",
       "      <td>92.16</td>\n",
       "      <td>983.15</td>\n",
       "      <td>1.220</td>\n",
       "      <td>10.03</td>\n",
       "      <td>14.10</td>\n",
       "      <td>46.0</td>\n",
       "    </tr>\n",
       "    <tr>\n",
       "      <th>66</th>\n",
       "      <td>57502</td>\n",
       "      <td>31.0</td>\n",
       "      <td>22</td>\n",
       "      <td>6</td>\n",
       "      <td>24</td>\n",
       "      <td>29</td>\n",
       "      <td>205</td>\n",
       "      <td>7</td>\n",
       "      <td>242.0</td>\n",
       "      <td>91.65</td>\n",
       "      <td>983.44</td>\n",
       "      <td>1.200</td>\n",
       "      <td>10.03</td>\n",
       "      <td>14.07</td>\n",
       "      <td>43.0</td>\n",
       "    </tr>\n",
       "    <tr>\n",
       "      <th>67</th>\n",
       "      <td>57503</td>\n",
       "      <td>29.0</td>\n",
       "      <td>23</td>\n",
       "      <td>6</td>\n",
       "      <td>24</td>\n",
       "      <td>29</td>\n",
       "      <td>205</td>\n",
       "      <td>7</td>\n",
       "      <td>261.0</td>\n",
       "      <td>91.40</td>\n",
       "      <td>983.63</td>\n",
       "      <td>0.910</td>\n",
       "      <td>10.03</td>\n",
       "      <td>14.17</td>\n",
       "      <td>42.0</td>\n",
       "    </tr>\n",
       "    <tr>\n",
       "      <th>68</th>\n",
       "      <td>57504</td>\n",
       "      <td>41.0</td>\n",
       "      <td>0</td>\n",
       "      <td>0</td>\n",
       "      <td>25</td>\n",
       "      <td>30</td>\n",
       "      <td>206</td>\n",
       "      <td>7</td>\n",
       "      <td>264.0</td>\n",
       "      <td>91.82</td>\n",
       "      <td>983.89</td>\n",
       "      <td>0.965</td>\n",
       "      <td>10.03</td>\n",
       "      <td>14.23</td>\n",
       "      <td>41.0</td>\n",
       "    </tr>\n",
       "  </tbody>\n",
       "</table>\n",
       "</div>"
      ],
      "text/plain": [
       "     time  pm10  hour  weekday  monthday  weekyear  dayyear  month  \\\n",
       "64  57500  25.0    20        6        24        29      205      7   \n",
       "65  57501  30.0    21        6        24        29      205      7   \n",
       "66  57502  31.0    22        6        24        29      205      7   \n",
       "67  57503  29.0    23        6        24        29      205      7   \n",
       "68  57504  41.0     0        0        25        30      206      7   \n",
       "\n",
       "    wind-direction  humidity  pressure  wind-speed   rain  temperature  target  \n",
       "64           230.0     92.13    982.80       1.240   9.93        14.31    48.0  \n",
       "65           236.0     92.16    983.15       1.220  10.03        14.10    46.0  \n",
       "66           242.0     91.65    983.44       1.200  10.03        14.07    43.0  \n",
       "67           261.0     91.40    983.63       0.910  10.03        14.17    42.0  \n",
       "68           264.0     91.82    983.89       0.965  10.03        14.23    41.0  "
      ]
     },
     "execution_count": 23,
     "metadata": {},
     "output_type": "execute_result"
    }
   ],
   "source": [
    "target_subst = 'pm10'\n",
    "subst_weather['target'] = subst_weather[target_subst].shift(-24, axis=0) # shift target label\n",
    "\n",
    "subst_weather = subst_weather[subst_weather['time'] >= 57500][:40000]\n",
    "subst_weather.head()"
   ]
  },
  {
   "cell_type": "code",
   "execution_count": 24,
   "metadata": {
    "collapsed": true
   },
   "outputs": [],
   "source": [
    "subst_weather = subst_weather.drop('time', 1)"
   ]
  },
  {
   "cell_type": "code",
   "execution_count": 25,
   "metadata": {
    "collapsed": false
   },
   "outputs": [
    {
     "data": {
      "text/html": [
       "<div>\n",
       "<table border=\"1\" class=\"dataframe\">\n",
       "  <thead>\n",
       "    <tr style=\"text-align: right;\">\n",
       "      <th></th>\n",
       "      <th>pm10</th>\n",
       "      <th>hour</th>\n",
       "      <th>weekday</th>\n",
       "      <th>monthday</th>\n",
       "      <th>weekyear</th>\n",
       "      <th>dayyear</th>\n",
       "      <th>month</th>\n",
       "      <th>wind-direction</th>\n",
       "      <th>humidity</th>\n",
       "      <th>pressure</th>\n",
       "      <th>wind-speed</th>\n",
       "      <th>rain</th>\n",
       "      <th>temperature</th>\n",
       "      <th>target</th>\n",
       "    </tr>\n",
       "  </thead>\n",
       "  <tbody>\n",
       "    <tr>\n",
       "      <th>64</th>\n",
       "      <td>25.0</td>\n",
       "      <td>20</td>\n",
       "      <td>6</td>\n",
       "      <td>24</td>\n",
       "      <td>29</td>\n",
       "      <td>205</td>\n",
       "      <td>7</td>\n",
       "      <td>230.0</td>\n",
       "      <td>92.13</td>\n",
       "      <td>982.80</td>\n",
       "      <td>1.240000</td>\n",
       "      <td>9.93</td>\n",
       "      <td>14.31</td>\n",
       "      <td>48.0</td>\n",
       "    </tr>\n",
       "    <tr>\n",
       "      <th>88</th>\n",
       "      <td>48.0</td>\n",
       "      <td>20</td>\n",
       "      <td>0</td>\n",
       "      <td>25</td>\n",
       "      <td>30</td>\n",
       "      <td>206</td>\n",
       "      <td>7</td>\n",
       "      <td>216.0</td>\n",
       "      <td>84.75</td>\n",
       "      <td>987.27</td>\n",
       "      <td>0.583333</td>\n",
       "      <td>0.11</td>\n",
       "      <td>18.44</td>\n",
       "      <td>36.0</td>\n",
       "    </tr>\n",
       "    <tr>\n",
       "      <th>112</th>\n",
       "      <td>36.0</td>\n",
       "      <td>20</td>\n",
       "      <td>1</td>\n",
       "      <td>26</td>\n",
       "      <td>30</td>\n",
       "      <td>207</td>\n",
       "      <td>7</td>\n",
       "      <td>274.0</td>\n",
       "      <td>90.71</td>\n",
       "      <td>990.71</td>\n",
       "      <td>0.960000</td>\n",
       "      <td>7.85</td>\n",
       "      <td>16.69</td>\n",
       "      <td>22.0</td>\n",
       "    </tr>\n",
       "  </tbody>\n",
       "</table>\n",
       "</div>"
      ],
      "text/plain": [
       "     pm10  hour  weekday  monthday  weekyear  dayyear  month  wind-direction  \\\n",
       "64   25.0    20        6        24        29      205      7           230.0   \n",
       "88   48.0    20        0        25        30      206      7           216.0   \n",
       "112  36.0    20        1        26        30      207      7           274.0   \n",
       "\n",
       "     humidity  pressure  wind-speed  rain  temperature  target  \n",
       "64      92.13    982.80    1.240000  9.93        14.31    48.0  \n",
       "88      84.75    987.27    0.583333  0.11        18.44    36.0  \n",
       "112     90.71    990.71    0.960000  7.85        16.69    22.0  "
      ]
     },
     "execution_count": 25,
     "metadata": {},
     "output_type": "execute_result"
    }
   ],
   "source": [
    "subst_weather[:72:24]"
   ]
  },
  {
   "cell_type": "markdown",
   "metadata": {},
   "source": [
    "# Model with hot encoded features"
   ]
  },
  {
   "cell_type": "code",
   "execution_count": 26,
   "metadata": {
    "collapsed": false
   },
   "outputs": [],
   "source": [
    "features_to_encode = ['hour', 'weekday', 'monthday', 'weekyear', 'dayyear', 'month']\n",
    "data_only_hot_encoding = subst_weather.copy()\n",
    "for feature in features_to_encode:\n",
    "    min_val, max_val = np.min(subst_weather[feature]), np.max(subst_weather[feature])\n",
    "    data_only_hot_encoding = to_hot_encoding(data_only_hot_encoding, feature, min_val, max_val)\n",
    "    data_only_hot_encoding = data_only_hot_encoding.drop(feature, 1)"
   ]
  },
  {
   "cell_type": "code",
   "execution_count": 27,
   "metadata": {
    "collapsed": false,
    "scrolled": false
   },
   "outputs": [
    {
     "data": {
      "text/html": [
       "<div>\n",
       "<table border=\"1\" class=\"dataframe\">\n",
       "  <thead>\n",
       "    <tr style=\"text-align: right;\">\n",
       "      <th></th>\n",
       "      <th>pm10</th>\n",
       "      <th>wind-direction</th>\n",
       "      <th>humidity</th>\n",
       "      <th>pressure</th>\n",
       "      <th>wind-speed</th>\n",
       "      <th>rain</th>\n",
       "      <th>temperature</th>\n",
       "      <th>target</th>\n",
       "      <th>hour-0</th>\n",
       "      <th>hour-1</th>\n",
       "      <th>...</th>\n",
       "      <th>month-3</th>\n",
       "      <th>month-4</th>\n",
       "      <th>month-5</th>\n",
       "      <th>month-6</th>\n",
       "      <th>month-7</th>\n",
       "      <th>month-8</th>\n",
       "      <th>month-9</th>\n",
       "      <th>month-10</th>\n",
       "      <th>month-11</th>\n",
       "      <th>month-12</th>\n",
       "    </tr>\n",
       "  </thead>\n",
       "  <tbody>\n",
       "    <tr>\n",
       "      <th>64</th>\n",
       "      <td>25.0</td>\n",
       "      <td>230.0</td>\n",
       "      <td>92.13</td>\n",
       "      <td>982.80</td>\n",
       "      <td>1.240</td>\n",
       "      <td>9.93</td>\n",
       "      <td>14.31</td>\n",
       "      <td>48.0</td>\n",
       "      <td>0</td>\n",
       "      <td>0</td>\n",
       "      <td>...</td>\n",
       "      <td>0</td>\n",
       "      <td>0</td>\n",
       "      <td>0</td>\n",
       "      <td>0</td>\n",
       "      <td>1</td>\n",
       "      <td>0</td>\n",
       "      <td>0</td>\n",
       "      <td>0</td>\n",
       "      <td>0</td>\n",
       "      <td>0</td>\n",
       "    </tr>\n",
       "    <tr>\n",
       "      <th>65</th>\n",
       "      <td>30.0</td>\n",
       "      <td>236.0</td>\n",
       "      <td>92.16</td>\n",
       "      <td>983.15</td>\n",
       "      <td>1.220</td>\n",
       "      <td>10.03</td>\n",
       "      <td>14.10</td>\n",
       "      <td>46.0</td>\n",
       "      <td>0</td>\n",
       "      <td>0</td>\n",
       "      <td>...</td>\n",
       "      <td>0</td>\n",
       "      <td>0</td>\n",
       "      <td>0</td>\n",
       "      <td>0</td>\n",
       "      <td>1</td>\n",
       "      <td>0</td>\n",
       "      <td>0</td>\n",
       "      <td>0</td>\n",
       "      <td>0</td>\n",
       "      <td>0</td>\n",
       "    </tr>\n",
       "    <tr>\n",
       "      <th>66</th>\n",
       "      <td>31.0</td>\n",
       "      <td>242.0</td>\n",
       "      <td>91.65</td>\n",
       "      <td>983.44</td>\n",
       "      <td>1.200</td>\n",
       "      <td>10.03</td>\n",
       "      <td>14.07</td>\n",
       "      <td>43.0</td>\n",
       "      <td>0</td>\n",
       "      <td>0</td>\n",
       "      <td>...</td>\n",
       "      <td>0</td>\n",
       "      <td>0</td>\n",
       "      <td>0</td>\n",
       "      <td>0</td>\n",
       "      <td>1</td>\n",
       "      <td>0</td>\n",
       "      <td>0</td>\n",
       "      <td>0</td>\n",
       "      <td>0</td>\n",
       "      <td>0</td>\n",
       "    </tr>\n",
       "    <tr>\n",
       "      <th>67</th>\n",
       "      <td>29.0</td>\n",
       "      <td>261.0</td>\n",
       "      <td>91.40</td>\n",
       "      <td>983.63</td>\n",
       "      <td>0.910</td>\n",
       "      <td>10.03</td>\n",
       "      <td>14.17</td>\n",
       "      <td>42.0</td>\n",
       "      <td>0</td>\n",
       "      <td>0</td>\n",
       "      <td>...</td>\n",
       "      <td>0</td>\n",
       "      <td>0</td>\n",
       "      <td>0</td>\n",
       "      <td>0</td>\n",
       "      <td>1</td>\n",
       "      <td>0</td>\n",
       "      <td>0</td>\n",
       "      <td>0</td>\n",
       "      <td>0</td>\n",
       "      <td>0</td>\n",
       "    </tr>\n",
       "    <tr>\n",
       "      <th>68</th>\n",
       "      <td>41.0</td>\n",
       "      <td>264.0</td>\n",
       "      <td>91.82</td>\n",
       "      <td>983.89</td>\n",
       "      <td>0.965</td>\n",
       "      <td>10.03</td>\n",
       "      <td>14.23</td>\n",
       "      <td>41.0</td>\n",
       "      <td>1</td>\n",
       "      <td>0</td>\n",
       "      <td>...</td>\n",
       "      <td>0</td>\n",
       "      <td>0</td>\n",
       "      <td>0</td>\n",
       "      <td>0</td>\n",
       "      <td>1</td>\n",
       "      <td>0</td>\n",
       "      <td>0</td>\n",
       "      <td>0</td>\n",
       "      <td>0</td>\n",
       "      <td>0</td>\n",
       "    </tr>\n",
       "  </tbody>\n",
       "</table>\n",
       "<p>5 rows × 501 columns</p>\n",
       "</div>"
      ],
      "text/plain": [
       "    pm10  wind-direction  humidity  pressure  wind-speed   rain  temperature  \\\n",
       "64  25.0           230.0     92.13    982.80       1.240   9.93        14.31   \n",
       "65  30.0           236.0     92.16    983.15       1.220  10.03        14.10   \n",
       "66  31.0           242.0     91.65    983.44       1.200  10.03        14.07   \n",
       "67  29.0           261.0     91.40    983.63       0.910  10.03        14.17   \n",
       "68  41.0           264.0     91.82    983.89       0.965  10.03        14.23   \n",
       "\n",
       "    target  hour-0  hour-1    ...     month-3  month-4  month-5  month-6  \\\n",
       "64    48.0       0       0    ...           0        0        0        0   \n",
       "65    46.0       0       0    ...           0        0        0        0   \n",
       "66    43.0       0       0    ...           0        0        0        0   \n",
       "67    42.0       0       0    ...           0        0        0        0   \n",
       "68    41.0       1       0    ...           0        0        0        0   \n",
       "\n",
       "    month-7  month-8  month-9  month-10  month-11  month-12  \n",
       "64        1        0        0         0         0         0  \n",
       "65        1        0        0         0         0         0  \n",
       "66        1        0        0         0         0         0  \n",
       "67        1        0        0         0         0         0  \n",
       "68        1        0        0         0         0         0  \n",
       "\n",
       "[5 rows x 501 columns]"
      ]
     },
     "execution_count": 27,
     "metadata": {},
     "output_type": "execute_result"
    }
   ],
   "source": [
    "data_only_hot_encoding.head()"
   ]
  },
  {
   "cell_type": "markdown",
   "metadata": {},
   "source": [
    "### Split dataset"
   ]
  },
  {
   "cell_type": "code",
   "execution_count": 28,
   "metadata": {
    "collapsed": false,
    "scrolled": false
   },
   "outputs": [
    {
     "name": "stdout",
     "output_type": "stream",
     "text": [
      "Train size: 32000\n",
      "Valid size: 4000\n",
      "Test  size: 4000\n"
     ]
    }
   ],
   "source": [
    "train_he, valid_test_he = split_data(data_only_hot_encoding, 0.8)\n",
    "valid_he, test_he = split_data(valid_test_he, 0.5)\n",
    "print(\"Train size:\", len(train_he))\n",
    "print(\"Valid size:\", len(valid_he))\n",
    "print(\"Test  size:\", len(test_he))"
   ]
  },
  {
   "cell_type": "markdown",
   "metadata": {},
   "source": [
    "### List all features"
   ]
  },
  {
   "cell_type": "code",
   "execution_count": 29,
   "metadata": {
    "collapsed": false
   },
   "outputs": [
    {
     "name": "stdout",
     "output_type": "stream",
     "text": [
      "['pm10', 'hour-3', 'hour-13', 'hour-23', 'monthday-3', 'monthday-13', 'monthday-23', 'weekyear-2', 'weekyear-12', 'weekyear-22', 'weekyear-32', 'weekyear-42', 'weekyear-52', 'dayyear-9', 'dayyear-19', 'dayyear-29', 'dayyear-39', 'dayyear-49', 'dayyear-59', 'dayyear-69', 'dayyear-79', 'dayyear-89', 'dayyear-99', 'dayyear-109', 'dayyear-119', 'dayyear-129', 'dayyear-139', 'dayyear-149', 'dayyear-159', 'dayyear-169', 'dayyear-179', 'dayyear-189', 'dayyear-199', 'dayyear-209', 'dayyear-219', 'dayyear-229', 'dayyear-239', 'dayyear-249', 'dayyear-259', 'dayyear-269', 'dayyear-279', 'dayyear-289', 'dayyear-299', 'dayyear-309', 'dayyear-319', 'dayyear-329', 'dayyear-339', 'dayyear-349', 'dayyear-359', 'month-3']\n"
     ]
    }
   ],
   "source": [
    "features_he = list(data_only_hot_encoding.columns)\n",
    "features_he.remove('target')\n",
    "print(features_he[::10])"
   ]
  },
  {
   "cell_type": "markdown",
   "metadata": {},
   "source": [
    "### Make model"
   ]
  },
  {
   "cell_type": "code",
   "execution_count": 30,
   "metadata": {
    "collapsed": false
   },
   "outputs": [],
   "source": [
    "model_hot_encoding = create_and_fit_model(train_he[features_he], train_he['target'])"
   ]
  },
  {
   "cell_type": "markdown",
   "metadata": {},
   "source": [
    "### Evaluate model on validation set"
   ]
  },
  {
   "cell_type": "code",
   "execution_count": 31,
   "metadata": {
    "collapsed": false
   },
   "outputs": [
    {
     "name": "stdout",
     "output_type": "stream",
     "text": [
      "pm10: 0.454975758834\n"
     ]
    }
   ],
   "source": [
    "model_hot_encoding_score = model_hot_encoding.score(valid_he[features_he], valid_he['target'])\n",
    "print('pm10:', model_hot_encoding_score)"
   ]
  },
  {
   "cell_type": "markdown",
   "metadata": {},
   "source": [
    "# Model with sin-cos features"
   ]
  },
  {
   "cell_type": "code",
   "execution_count": 32,
   "metadata": {
    "collapsed": false
   },
   "outputs": [],
   "source": [
    "features_to_encode = ['hour', 'weekday', 'monthday', 'weekyear', 'dayyear', 'month']\n",
    "data_only_sincos = subst_weather.copy()\n",
    "for feature in features_to_encode:\n",
    "    min_val, max_val = np.min(subst_weather[feature]), np.max(subst_weather[feature])\n",
    "    data_only_sincos = to_sin_cos_encoding(data_only_sincos, feature, min_val, max_val)\n",
    "    data_only_sincos = data_only_sincos.drop(feature, 1)"
   ]
  },
  {
   "cell_type": "code",
   "execution_count": 33,
   "metadata": {
    "collapsed": false,
    "scrolled": false
   },
   "outputs": [
    {
     "data": {
      "text/html": [
       "<div>\n",
       "<table border=\"1\" class=\"dataframe\">\n",
       "  <thead>\n",
       "    <tr style=\"text-align: right;\">\n",
       "      <th></th>\n",
       "      <th>pm10</th>\n",
       "      <th>wind-direction</th>\n",
       "      <th>humidity</th>\n",
       "      <th>pressure</th>\n",
       "      <th>wind-speed</th>\n",
       "      <th>rain</th>\n",
       "      <th>temperature</th>\n",
       "      <th>target</th>\n",
       "      <th>hour-sin</th>\n",
       "      <th>hour-cos</th>\n",
       "      <th>weekday-sin</th>\n",
       "      <th>weekday-cos</th>\n",
       "      <th>monthday-sin</th>\n",
       "      <th>monthday-cos</th>\n",
       "      <th>weekyear-sin</th>\n",
       "      <th>weekyear-cos</th>\n",
       "      <th>dayyear-sin</th>\n",
       "      <th>dayyear-cos</th>\n",
       "      <th>month-sin</th>\n",
       "      <th>month-cos</th>\n",
       "    </tr>\n",
       "  </thead>\n",
       "  <tbody>\n",
       "    <tr>\n",
       "      <th>64</th>\n",
       "      <td>25.0</td>\n",
       "      <td>230.0</td>\n",
       "      <td>92.13</td>\n",
       "      <td>982.80</td>\n",
       "      <td>1.240</td>\n",
       "      <td>9.93</td>\n",
       "      <td>14.31</td>\n",
       "      <td>48.0</td>\n",
       "      <td>-7.308360e-01</td>\n",
       "      <td>0.682553</td>\n",
       "      <td>-2.449294e-16</td>\n",
       "      <td>1.0</td>\n",
       "      <td>0.005478</td>\n",
       "      <td>1.104528</td>\n",
       "      <td>0.760684</td>\n",
       "      <td>0.029058</td>\n",
       "      <td>0.638286</td>\n",
       "      <td>0.067711</td>\n",
       "      <td>0.718267</td>\n",
       "      <td>0.040507</td>\n",
       "    </tr>\n",
       "    <tr>\n",
       "      <th>65</th>\n",
       "      <td>30.0</td>\n",
       "      <td>236.0</td>\n",
       "      <td>92.16</td>\n",
       "      <td>983.15</td>\n",
       "      <td>1.220</td>\n",
       "      <td>10.03</td>\n",
       "      <td>14.10</td>\n",
       "      <td>46.0</td>\n",
       "      <td>-5.195840e-01</td>\n",
       "      <td>0.854419</td>\n",
       "      <td>-2.449294e-16</td>\n",
       "      <td>1.0</td>\n",
       "      <td>0.005478</td>\n",
       "      <td>1.104528</td>\n",
       "      <td>0.760684</td>\n",
       "      <td>0.029058</td>\n",
       "      <td>0.638286</td>\n",
       "      <td>0.067711</td>\n",
       "      <td>0.718267</td>\n",
       "      <td>0.040507</td>\n",
       "    </tr>\n",
       "    <tr>\n",
       "      <th>66</th>\n",
       "      <td>31.0</td>\n",
       "      <td>242.0</td>\n",
       "      <td>91.65</td>\n",
       "      <td>983.44</td>\n",
       "      <td>1.200</td>\n",
       "      <td>10.03</td>\n",
       "      <td>14.07</td>\n",
       "      <td>43.0</td>\n",
       "      <td>-2.697968e-01</td>\n",
       "      <td>0.962917</td>\n",
       "      <td>-2.449294e-16</td>\n",
       "      <td>1.0</td>\n",
       "      <td>0.005478</td>\n",
       "      <td>1.104528</td>\n",
       "      <td>0.760684</td>\n",
       "      <td>0.029058</td>\n",
       "      <td>0.638286</td>\n",
       "      <td>0.067711</td>\n",
       "      <td>0.718267</td>\n",
       "      <td>0.040507</td>\n",
       "    </tr>\n",
       "    <tr>\n",
       "      <th>67</th>\n",
       "      <td>29.0</td>\n",
       "      <td>261.0</td>\n",
       "      <td>91.40</td>\n",
       "      <td>983.63</td>\n",
       "      <td>0.910</td>\n",
       "      <td>10.03</td>\n",
       "      <td>14.17</td>\n",
       "      <td>42.0</td>\n",
       "      <td>-2.449294e-16</td>\n",
       "      <td>1.000000</td>\n",
       "      <td>-2.449294e-16</td>\n",
       "      <td>1.0</td>\n",
       "      <td>0.005478</td>\n",
       "      <td>1.104528</td>\n",
       "      <td>0.760684</td>\n",
       "      <td>0.029058</td>\n",
       "      <td>0.638286</td>\n",
       "      <td>0.067711</td>\n",
       "      <td>0.718267</td>\n",
       "      <td>0.040507</td>\n",
       "    </tr>\n",
       "    <tr>\n",
       "      <th>68</th>\n",
       "      <td>41.0</td>\n",
       "      <td>264.0</td>\n",
       "      <td>91.82</td>\n",
       "      <td>983.89</td>\n",
       "      <td>0.965</td>\n",
       "      <td>10.03</td>\n",
       "      <td>14.23</td>\n",
       "      <td>41.0</td>\n",
       "      <td>0.000000e+00</td>\n",
       "      <td>1.000000</td>\n",
       "      <td>0.000000e+00</td>\n",
       "      <td>1.0</td>\n",
       "      <td>0.048943</td>\n",
       "      <td>1.309017</td>\n",
       "      <td>0.645395</td>\n",
       "      <td>0.064984</td>\n",
       "      <td>0.622292</td>\n",
       "      <td>0.074075</td>\n",
       "      <td>0.718267</td>\n",
       "      <td>0.040507</td>\n",
       "    </tr>\n",
       "  </tbody>\n",
       "</table>\n",
       "</div>"
      ],
      "text/plain": [
       "    pm10  wind-direction  humidity  pressure  wind-speed   rain  temperature  \\\n",
       "64  25.0           230.0     92.13    982.80       1.240   9.93        14.31   \n",
       "65  30.0           236.0     92.16    983.15       1.220  10.03        14.10   \n",
       "66  31.0           242.0     91.65    983.44       1.200  10.03        14.07   \n",
       "67  29.0           261.0     91.40    983.63       0.910  10.03        14.17   \n",
       "68  41.0           264.0     91.82    983.89       0.965  10.03        14.23   \n",
       "\n",
       "    target      hour-sin  hour-cos   weekday-sin  weekday-cos  monthday-sin  \\\n",
       "64    48.0 -7.308360e-01  0.682553 -2.449294e-16          1.0      0.005478   \n",
       "65    46.0 -5.195840e-01  0.854419 -2.449294e-16          1.0      0.005478   \n",
       "66    43.0 -2.697968e-01  0.962917 -2.449294e-16          1.0      0.005478   \n",
       "67    42.0 -2.449294e-16  1.000000 -2.449294e-16          1.0      0.005478   \n",
       "68    41.0  0.000000e+00  1.000000  0.000000e+00          1.0      0.048943   \n",
       "\n",
       "    monthday-cos  weekyear-sin  weekyear-cos  dayyear-sin  dayyear-cos  \\\n",
       "64      1.104528      0.760684      0.029058     0.638286     0.067711   \n",
       "65      1.104528      0.760684      0.029058     0.638286     0.067711   \n",
       "66      1.104528      0.760684      0.029058     0.638286     0.067711   \n",
       "67      1.104528      0.760684      0.029058     0.638286     0.067711   \n",
       "68      1.309017      0.645395      0.064984     0.622292     0.074075   \n",
       "\n",
       "    month-sin  month-cos  \n",
       "64   0.718267   0.040507  \n",
       "65   0.718267   0.040507  \n",
       "66   0.718267   0.040507  \n",
       "67   0.718267   0.040507  \n",
       "68   0.718267   0.040507  "
      ]
     },
     "execution_count": 33,
     "metadata": {},
     "output_type": "execute_result"
    }
   ],
   "source": [
    "data_only_sincos.head()"
   ]
  },
  {
   "cell_type": "markdown",
   "metadata": {},
   "source": [
    "### Split dataset"
   ]
  },
  {
   "cell_type": "code",
   "execution_count": 34,
   "metadata": {
    "collapsed": false,
    "scrolled": false
   },
   "outputs": [
    {
     "name": "stdout",
     "output_type": "stream",
     "text": [
      "Train size: 32000\n",
      "Valid size: 4000\n",
      "Test  size: 4000\n"
     ]
    }
   ],
   "source": [
    "train_sc, valid_test_sc = split_data(data_only_sincos, 0.8)\n",
    "valid_sc, test_sc = split_data(valid_test_sc, 0.5)\n",
    "print(\"Train size:\", len(train_sc))\n",
    "print(\"Valid size:\", len(valid_sc))\n",
    "print(\"Test  size:\", len(test_sc))"
   ]
  },
  {
   "cell_type": "markdown",
   "metadata": {},
   "source": [
    "### List all features"
   ]
  },
  {
   "cell_type": "code",
   "execution_count": 35,
   "metadata": {
    "collapsed": false
   },
   "outputs": [
    {
     "name": "stdout",
     "output_type": "stream",
     "text": [
      "['pm10', 'wind-direction', 'humidity', 'pressure', 'wind-speed', 'rain', 'temperature', 'hour-sin', 'hour-cos', 'weekday-sin', 'weekday-cos', 'monthday-sin', 'monthday-cos', 'weekyear-sin', 'weekyear-cos', 'dayyear-sin', 'dayyear-cos', 'month-sin', 'month-cos']\n"
     ]
    }
   ],
   "source": [
    "features_sc = list(data_only_sincos.columns)\n",
    "features_sc.remove('target')\n",
    "print(features_sc)"
   ]
  },
  {
   "cell_type": "markdown",
   "metadata": {},
   "source": [
    "### Make model"
   ]
  },
  {
   "cell_type": "code",
   "execution_count": 36,
   "metadata": {
    "collapsed": false
   },
   "outputs": [],
   "source": [
    "model_sincos = create_and_fit_model(train_sc[features_sc], train_sc['target'])"
   ]
  },
  {
   "cell_type": "markdown",
   "metadata": {},
   "source": [
    "### Evaluate model on validation set"
   ]
  },
  {
   "cell_type": "code",
   "execution_count": 37,
   "metadata": {
    "collapsed": false
   },
   "outputs": [
    {
     "name": "stdout",
     "output_type": "stream",
     "text": [
      "pm10: 0.402324004476\n"
     ]
    }
   ],
   "source": [
    "model_sincos_score = model_sincos.score(valid_sc[features_sc], valid_sc['target'])\n",
    "print('pm10:', model_sincos_score)"
   ]
  },
  {
   "cell_type": "markdown",
   "metadata": {},
   "source": [
    "# Model with sin-cos and hot-encoded features"
   ]
  },
  {
   "cell_type": "code",
   "execution_count": 38,
   "metadata": {
    "collapsed": false
   },
   "outputs": [],
   "source": [
    "features_to_encode = ['hour', 'weekday', 'monthday', 'weekyear', 'dayyear', 'month']\n",
    "data_he_sc = subst_weather.copy()\n",
    "for feature in features_to_encode:\n",
    "    min_val, max_val = np.min(subst_weather[feature]), np.max(subst_weather[feature])\n",
    "    data_he_sc = to_sin_cos_encoding(data_he_sc, feature, min_val, max_val)\n",
    "    data_he_sc = to_hot_encoding(data_he_sc, feature, min_val, max_val)\n",
    "    data_he_sc = data_he_sc.drop(feature, 1)"
   ]
  },
  {
   "cell_type": "code",
   "execution_count": 39,
   "metadata": {
    "collapsed": false,
    "scrolled": false
   },
   "outputs": [
    {
     "data": {
      "text/html": [
       "<div>\n",
       "<table border=\"1\" class=\"dataframe\">\n",
       "  <thead>\n",
       "    <tr style=\"text-align: right;\">\n",
       "      <th></th>\n",
       "      <th>pm10</th>\n",
       "      <th>wind-direction</th>\n",
       "      <th>humidity</th>\n",
       "      <th>pressure</th>\n",
       "      <th>wind-speed</th>\n",
       "      <th>rain</th>\n",
       "      <th>temperature</th>\n",
       "      <th>target</th>\n",
       "      <th>hour-sin</th>\n",
       "      <th>hour-cos</th>\n",
       "      <th>...</th>\n",
       "      <th>month-3</th>\n",
       "      <th>month-4</th>\n",
       "      <th>month-5</th>\n",
       "      <th>month-6</th>\n",
       "      <th>month-7</th>\n",
       "      <th>month-8</th>\n",
       "      <th>month-9</th>\n",
       "      <th>month-10</th>\n",
       "      <th>month-11</th>\n",
       "      <th>month-12</th>\n",
       "    </tr>\n",
       "  </thead>\n",
       "  <tbody>\n",
       "    <tr>\n",
       "      <th>64</th>\n",
       "      <td>25.0</td>\n",
       "      <td>230.0</td>\n",
       "      <td>92.13</td>\n",
       "      <td>982.80</td>\n",
       "      <td>1.240</td>\n",
       "      <td>9.93</td>\n",
       "      <td>14.31</td>\n",
       "      <td>48.0</td>\n",
       "      <td>-7.308360e-01</td>\n",
       "      <td>0.682553</td>\n",
       "      <td>...</td>\n",
       "      <td>0</td>\n",
       "      <td>0</td>\n",
       "      <td>0</td>\n",
       "      <td>0</td>\n",
       "      <td>1</td>\n",
       "      <td>0</td>\n",
       "      <td>0</td>\n",
       "      <td>0</td>\n",
       "      <td>0</td>\n",
       "      <td>0</td>\n",
       "    </tr>\n",
       "    <tr>\n",
       "      <th>65</th>\n",
       "      <td>30.0</td>\n",
       "      <td>236.0</td>\n",
       "      <td>92.16</td>\n",
       "      <td>983.15</td>\n",
       "      <td>1.220</td>\n",
       "      <td>10.03</td>\n",
       "      <td>14.10</td>\n",
       "      <td>46.0</td>\n",
       "      <td>-5.195840e-01</td>\n",
       "      <td>0.854419</td>\n",
       "      <td>...</td>\n",
       "      <td>0</td>\n",
       "      <td>0</td>\n",
       "      <td>0</td>\n",
       "      <td>0</td>\n",
       "      <td>1</td>\n",
       "      <td>0</td>\n",
       "      <td>0</td>\n",
       "      <td>0</td>\n",
       "      <td>0</td>\n",
       "      <td>0</td>\n",
       "    </tr>\n",
       "    <tr>\n",
       "      <th>66</th>\n",
       "      <td>31.0</td>\n",
       "      <td>242.0</td>\n",
       "      <td>91.65</td>\n",
       "      <td>983.44</td>\n",
       "      <td>1.200</td>\n",
       "      <td>10.03</td>\n",
       "      <td>14.07</td>\n",
       "      <td>43.0</td>\n",
       "      <td>-2.697968e-01</td>\n",
       "      <td>0.962917</td>\n",
       "      <td>...</td>\n",
       "      <td>0</td>\n",
       "      <td>0</td>\n",
       "      <td>0</td>\n",
       "      <td>0</td>\n",
       "      <td>1</td>\n",
       "      <td>0</td>\n",
       "      <td>0</td>\n",
       "      <td>0</td>\n",
       "      <td>0</td>\n",
       "      <td>0</td>\n",
       "    </tr>\n",
       "    <tr>\n",
       "      <th>67</th>\n",
       "      <td>29.0</td>\n",
       "      <td>261.0</td>\n",
       "      <td>91.40</td>\n",
       "      <td>983.63</td>\n",
       "      <td>0.910</td>\n",
       "      <td>10.03</td>\n",
       "      <td>14.17</td>\n",
       "      <td>42.0</td>\n",
       "      <td>-2.449294e-16</td>\n",
       "      <td>1.000000</td>\n",
       "      <td>...</td>\n",
       "      <td>0</td>\n",
       "      <td>0</td>\n",
       "      <td>0</td>\n",
       "      <td>0</td>\n",
       "      <td>1</td>\n",
       "      <td>0</td>\n",
       "      <td>0</td>\n",
       "      <td>0</td>\n",
       "      <td>0</td>\n",
       "      <td>0</td>\n",
       "    </tr>\n",
       "    <tr>\n",
       "      <th>68</th>\n",
       "      <td>41.0</td>\n",
       "      <td>264.0</td>\n",
       "      <td>91.82</td>\n",
       "      <td>983.89</td>\n",
       "      <td>0.965</td>\n",
       "      <td>10.03</td>\n",
       "      <td>14.23</td>\n",
       "      <td>41.0</td>\n",
       "      <td>0.000000e+00</td>\n",
       "      <td>1.000000</td>\n",
       "      <td>...</td>\n",
       "      <td>0</td>\n",
       "      <td>0</td>\n",
       "      <td>0</td>\n",
       "      <td>0</td>\n",
       "      <td>1</td>\n",
       "      <td>0</td>\n",
       "      <td>0</td>\n",
       "      <td>0</td>\n",
       "      <td>0</td>\n",
       "      <td>0</td>\n",
       "    </tr>\n",
       "  </tbody>\n",
       "</table>\n",
       "<p>5 rows × 513 columns</p>\n",
       "</div>"
      ],
      "text/plain": [
       "    pm10  wind-direction  humidity  pressure  wind-speed   rain  temperature  \\\n",
       "64  25.0           230.0     92.13    982.80       1.240   9.93        14.31   \n",
       "65  30.0           236.0     92.16    983.15       1.220  10.03        14.10   \n",
       "66  31.0           242.0     91.65    983.44       1.200  10.03        14.07   \n",
       "67  29.0           261.0     91.40    983.63       0.910  10.03        14.17   \n",
       "68  41.0           264.0     91.82    983.89       0.965  10.03        14.23   \n",
       "\n",
       "    target      hour-sin  hour-cos    ...     month-3  month-4  month-5  \\\n",
       "64    48.0 -7.308360e-01  0.682553    ...           0        0        0   \n",
       "65    46.0 -5.195840e-01  0.854419    ...           0        0        0   \n",
       "66    43.0 -2.697968e-01  0.962917    ...           0        0        0   \n",
       "67    42.0 -2.449294e-16  1.000000    ...           0        0        0   \n",
       "68    41.0  0.000000e+00  1.000000    ...           0        0        0   \n",
       "\n",
       "    month-6  month-7  month-8  month-9  month-10  month-11  month-12  \n",
       "64        0        1        0        0         0         0         0  \n",
       "65        0        1        0        0         0         0         0  \n",
       "66        0        1        0        0         0         0         0  \n",
       "67        0        1        0        0         0         0         0  \n",
       "68        0        1        0        0         0         0         0  \n",
       "\n",
       "[5 rows x 513 columns]"
      ]
     },
     "execution_count": 39,
     "metadata": {},
     "output_type": "execute_result"
    }
   ],
   "source": [
    "data_he_sc.head()"
   ]
  },
  {
   "cell_type": "markdown",
   "metadata": {},
   "source": [
    "### Split dataset"
   ]
  },
  {
   "cell_type": "code",
   "execution_count": 40,
   "metadata": {
    "collapsed": false,
    "scrolled": false
   },
   "outputs": [
    {
     "name": "stdout",
     "output_type": "stream",
     "text": [
      "Train size: 32000\n",
      "Valid size: 4000\n",
      "Test  size: 4000\n"
     ]
    }
   ],
   "source": [
    "train_he_sc, valid_test_he_sc = split_data(data_he_sc, 0.8)\n",
    "valid_he_sc, test_he_sc = split_data(valid_test_he_sc, 0.5)\n",
    "print(\"Train size:\", len(train_he_sc))\n",
    "print(\"Valid size:\", len(valid_he_sc))\n",
    "print(\"Test  size:\", len(test_he_sc))"
   ]
  },
  {
   "cell_type": "markdown",
   "metadata": {},
   "source": [
    "### List all features"
   ]
  },
  {
   "cell_type": "code",
   "execution_count": 41,
   "metadata": {
    "collapsed": false
   },
   "outputs": [],
   "source": [
    "features_he_sc = list(data_he_sc.columns)\n",
    "features_he_sc.remove('target')\n",
    "# print(features_he_sc)"
   ]
  },
  {
   "cell_type": "markdown",
   "metadata": {},
   "source": [
    "### Make model"
   ]
  },
  {
   "cell_type": "code",
   "execution_count": 42,
   "metadata": {
    "collapsed": false
   },
   "outputs": [],
   "source": [
    "model_he_sc = create_and_fit_model(train_he_sc[features_he_sc], train_he_sc['target'])"
   ]
  },
  {
   "cell_type": "markdown",
   "metadata": {},
   "source": [
    "### Evaluate model on validation set"
   ]
  },
  {
   "cell_type": "code",
   "execution_count": 43,
   "metadata": {
    "collapsed": false
   },
   "outputs": [
    {
     "name": "stdout",
     "output_type": "stream",
     "text": [
      "pm10: 0.45502818674\n"
     ]
    }
   ],
   "source": [
    "model_he_sc_score = model_he_sc.score(valid_he_sc[features_he_sc], valid_he_sc['target'])\n",
    "print('pm10:', model_he_sc_score)"
   ]
  },
  {
   "cell_type": "markdown",
   "metadata": {},
   "source": [
    "## Feature weights"
   ]
  },
  {
   "cell_type": "code",
   "execution_count": 44,
   "metadata": {
    "collapsed": false,
    "scrolled": true
   },
   "outputs": [],
   "source": [
    "# plot_dependency(model_hot_encoding, features_he, top=20)"
   ]
  },
  {
   "cell_type": "code",
   "execution_count": 45,
   "metadata": {
    "collapsed": false,
    "scrolled": true
   },
   "outputs": [],
   "source": [
    "# for f, c in zip(features_he, model_hot_encoding.coef_):\n",
    "#     print('%-20s: %10.6f' % (f, c))"
   ]
  },
  {
   "cell_type": "markdown",
   "metadata": {},
   "source": [
    "## Score function"
   ]
  },
  {
   "cell_type": "code",
   "execution_count": 46,
   "metadata": {
    "collapsed": true
   },
   "outputs": [],
   "source": [
    "def calc_score(predicted, target):\n",
    "    v = np.sum((target - predicted)**2)\n",
    "    u = np.sum((target - np.mean(target))**2)\n",
    "    return 1 - v**2 / u**2"
   ]
  },
  {
   "cell_type": "markdown",
   "metadata": {},
   "source": [
    "# Full random model"
   ]
  },
  {
   "cell_type": "code",
   "execution_count": 47,
   "metadata": {
    "collapsed": false
   },
   "outputs": [
    {
     "name": "stdout",
     "output_type": "stream",
     "text": [
      "Train size: 32000\n",
      "Valid size: 4000\n",
      "Test size:  4000\n"
     ]
    }
   ],
   "source": [
    "train, valid_test = split_data(subst_weather, 0.8)\n",
    "valid, test = split_data(valid_test, 0.5)\n",
    "print('Train size:', len(train))\n",
    "print('Valid size:', len(valid))\n",
    "print('Test size: ', len(test))"
   ]
  },
  {
   "cell_type": "code",
   "execution_count": 48,
   "metadata": {
    "collapsed": false
   },
   "outputs": [
    {
     "name": "stdout",
     "output_type": "stream",
     "text": [
      "Random model score: -1422.23620785\n"
     ]
    }
   ],
   "source": [
    "pm10_min, pm10_max = train[target_subst].min(), train[target_subst].max()\n",
    "random_score = 0.\n",
    "for _ in range(100):\n",
    "    random_score += calc_score(np.random.random(len(valid)) * (pm10_max - pm10_min) + pm10_min, valid['target'])\n",
    "random_score /= 100.\n",
    "full_random_model_score = random_score\n",
    "print('Random model score:', random_score)"
   ]
  },
  {
   "cell_type": "markdown",
   "metadata": {},
   "source": [
    "# Normal-random model"
   ]
  },
  {
   "cell_type": "code",
   "execution_count": 49,
   "metadata": {
    "collapsed": false
   },
   "outputs": [
    {
     "name": "stdout",
     "output_type": "stream",
     "text": [
      "Train size: 32000\n",
      "Valid size: 4000\n",
      "Test size:  4000\n"
     ]
    }
   ],
   "source": [
    "train, valid_test = split_data(subst_weather, 0.8)\n",
    "valid, test = split_data(valid_test, 0.5)\n",
    "print('Train size:', len(train))\n",
    "print('Valid size:', len(valid))\n",
    "print('Test size: ', len(test))"
   ]
  },
  {
   "cell_type": "code",
   "execution_count": 50,
   "metadata": {
    "collapsed": false,
    "scrolled": true
   },
   "outputs": [
    {
     "name": "stdout",
     "output_type": "stream",
     "text": [
      "Avg. normal-random model score: -3.05180468999\n"
     ]
    }
   ],
   "source": [
    "pm10_mean, pm10_std = train[target_subst].mean(), train[target_subst].std()\n",
    "random_score = 0.\n",
    "for _ in range(100):\n",
    "    random_prediction = np.random.normal(pm10_mean, pm10_std, len(valid))\n",
    "    random_score += calc_score(random_prediction, valid['target'])\n",
    "random_score /= 100.\n",
    "normal_random_model_score = random_score\n",
    "print('Avg. normal-random model score:', random_score)"
   ]
  },
  {
   "cell_type": "markdown",
   "metadata": {},
   "source": [
    "# Previous-day + normal-random"
   ]
  },
  {
   "cell_type": "code",
   "execution_count": 51,
   "metadata": {
    "collapsed": false
   },
   "outputs": [
    {
     "name": "stdout",
     "output_type": "stream",
     "text": [
      "Avg. previous-day + normal-random model score: 0.0383633517327\n"
     ]
    }
   ],
   "source": [
    "random_score = 0.\n",
    "for _ in range(100):\n",
    "    random_prediction = valid[target_subst] + np.random.normal(size=len(valid))\n",
    "    random_score += calc_score(random_prediction, valid['target'])\n",
    "random_score /= 100.\n",
    "prev_normal_model_score = random_score\n",
    "print('Avg. previous-day + normal-random model score:', prev_normal_model_score)"
   ]
  },
  {
   "cell_type": "markdown",
   "metadata": {},
   "source": [
    "# Previous day model"
   ]
  },
  {
   "cell_type": "code",
   "execution_count": 52,
   "metadata": {
    "collapsed": false
   },
   "outputs": [
    {
     "name": "stdout",
     "output_type": "stream",
     "text": [
      "Train size: 32000\n",
      "Valid size: 4000\n",
      "Test size:  4000\n"
     ]
    }
   ],
   "source": [
    "train, valid_test = split_data(subst_weather, 0.8)\n",
    "valid, test = split_data(valid_test, 0.5)\n",
    "print('Train size:', len(train))\n",
    "print('Valid size:', len(valid))\n",
    "print('Test size: ', len(test))"
   ]
  },
  {
   "cell_type": "code",
   "execution_count": 53,
   "metadata": {
    "collapsed": false
   },
   "outputs": [
    {
     "name": "stdout",
     "output_type": "stream",
     "text": [
      "Previous-day model score: 0.0391860638329\n"
     ]
    }
   ],
   "source": [
    "previous_day_model_score = calc_score(valid[target_subst], valid['target'])\n",
    "print('Previous-day model score:', previous_day_model_score)"
   ]
  },
  {
   "cell_type": "markdown",
   "metadata": {},
   "source": [
    "# Comparison"
   ]
  },
  {
   "cell_type": "code",
   "execution_count": 54,
   "metadata": {
    "collapsed": false
   },
   "outputs": [
    {
     "name": "stdout",
     "output_type": "stream",
     "text": [
      "Only hot encoding:                0.454975758834\n",
      "Only sin-cos encoding:            0.402324004476\n",
      "Both (hot encoding and sin-cos):  0.45502818674\n",
      "Full random model:                -1422.23620785\n",
      "Normal random model:              -3.05180468999\n",
      "Previous day model:               0.0391860638329\n",
      "Previous day + normal model:      0.0383633517327\n"
     ]
    }
   ],
   "source": [
    "print('Only hot encoding:               ', model_hot_encoding_score)\n",
    "print('Only sin-cos encoding:           ', model_sincos_score)\n",
    "print('Both (hot encoding and sin-cos): ', model_he_sc_score)\n",
    "print('Full random model:               ', full_random_model_score)\n",
    "print('Normal random model:             ', normal_random_model_score)\n",
    "print('Previous day model:              ', previous_day_model_score)\n",
    "print('Previous day + normal model:     ', prev_normal_model_score)"
   ]
  },
  {
   "cell_type": "code",
   "execution_count": null,
   "metadata": {
    "collapsed": true
   },
   "outputs": [],
   "source": []
  }
 ],
 "metadata": {
  "kernelspec": {
   "display_name": "Python 3",
   "language": "python",
   "name": "python3"
  },
  "language_info": {
   "codemirror_mode": {
    "name": "ipython",
    "version": 3
   },
   "file_extension": ".py",
   "mimetype": "text/x-python",
   "name": "python",
   "nbconvert_exporter": "python",
   "pygments_lexer": "ipython3",
   "version": "3.5.1"
  }
 },
 "nbformat": 4,
 "nbformat_minor": 0
}
